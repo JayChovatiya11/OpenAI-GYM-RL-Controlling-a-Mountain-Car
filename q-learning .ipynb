{
 "cells": [
  {
   "cell_type": "code",
   "execution_count": 1,
   "id": "18d9fc9c",
   "metadata": {},
   "outputs": [
    {
     "name": "stdout",
     "output_type": "stream",
     "text": [
      "Requirement already satisfied: gym in ./opt/anaconda3/lib/python3.9/site-packages (0.26.2)\n",
      "Requirement already satisfied: cloudpickle>=1.2.0 in ./opt/anaconda3/lib/python3.9/site-packages (from gym) (2.0.0)\n",
      "Requirement already satisfied: importlib-metadata>=4.8.0 in ./opt/anaconda3/lib/python3.9/site-packages (from gym) (4.11.3)\n",
      "Requirement already satisfied: numpy>=1.18.0 in ./opt/anaconda3/lib/python3.9/site-packages (from gym) (1.21.5)\n",
      "Requirement already satisfied: gym-notices>=0.0.4 in ./opt/anaconda3/lib/python3.9/site-packages (from gym) (0.0.8)\n",
      "Requirement already satisfied: zipp>=0.5 in ./opt/anaconda3/lib/python3.9/site-packages (from importlib-metadata>=4.8.0->gym) (3.7.0)\n",
      "Note: you may need to restart the kernel to use updated packages.\n"
     ]
    }
   ],
   "source": [
    "pip install gym"
   ]
  },
  {
   "cell_type": "code",
   "execution_count": 16,
   "id": "3c8b1e64",
   "metadata": {},
   "outputs": [
    {
     "name": "stdout",
     "output_type": "stream",
     "text": [
      "Number of actions taken in episode 0: 12094\n",
      "Number of actions taken in episode 1: 11023\n",
      "Number of actions taken in episode 2: 18157\n",
      "Number of actions taken in episode 3: 22782\n",
      "Number of actions taken in episode 4: 28247\n",
      "Number of actions taken in episode 5: 15507\n",
      "Number of actions taken in episode 6: 2388\n",
      "Number of actions taken in episode 7: 8460\n",
      "Number of actions taken in episode 8: 2239\n",
      "Number of actions taken in episode 9: 35619\n",
      "Number of actions taken in episode 10: 20192\n",
      "Number of actions taken in episode 11: 7923\n",
      "Number of actions taken in episode 12: 7347\n",
      "Number of actions taken in episode 13: 4666\n",
      "Number of actions taken in episode 14: 6818\n",
      "Number of actions taken in episode 15: 15716\n",
      "Number of actions taken in episode 16: 11256\n",
      "Number of actions taken in episode 17: 4195\n",
      "Number of actions taken in episode 18: 4170\n",
      "Number of actions taken in episode 19: 3681\n",
      "Number of actions taken in episode 20: 10946\n",
      "Number of actions taken in episode 21: 19927\n",
      "Number of actions taken in episode 22: 26677\n",
      "Number of actions taken in episode 23: 2968\n",
      "Number of actions taken in episode 24: 7403\n",
      "Number of actions taken in episode 25: 3872\n",
      "Number of actions taken in episode 26: 4203\n",
      "Number of actions taken in episode 27: 4823\n",
      "Number of actions taken in episode 28: 2909\n",
      "Number of actions taken in episode 29: 4967\n",
      "Number of actions taken in episode 30: 10418\n",
      "Number of actions taken in episode 31: 25457\n",
      "Number of actions taken in episode 32: 8539\n",
      "Number of actions taken in episode 33: 957\n",
      "Number of actions taken in episode 34: 12918\n",
      "Number of actions taken in episode 35: 18568\n",
      "Number of actions taken in episode 36: 11764\n",
      "Number of actions taken in episode 37: 2190\n",
      "Number of actions taken in episode 38: 41570\n",
      "Number of actions taken in episode 39: 6394\n",
      "Number of actions taken in episode 40: 14410\n",
      "Number of actions taken in episode 41: 6474\n",
      "Number of actions taken in episode 42: 4299\n",
      "Number of actions taken in episode 43: 14598\n",
      "Number of actions taken in episode 44: 5234\n",
      "Number of actions taken in episode 45: 5577\n",
      "Number of actions taken in episode 46: 7387\n",
      "Number of actions taken in episode 47: 17461\n",
      "Number of actions taken in episode 48: 6160\n",
      "Number of actions taken in episode 49: 5868\n"
     ]
    }
   ],
   "source": [
    "import numpy as np\n",
    "import gym\n",
    "\n",
    "\n",
    "#Creating and reseting environment \n",
    "env = gym.make('MountainCar-v0')\n",
    "number_states = env.observation_space.shape[0]\n",
    "number_actions = env.action_space.n\n",
    "\n",
    "# Declaring Q-table with dimensions\n",
    "Q = np.zeros((number_states, number_actions))\n",
    "\n",
    "#declaring the parameter \n",
    "parameter_alpha = 0.01 # learning rate\n",
    "parameter_gamma = 0.99 # discount factor\n",
    "parameter_epsilon = 0.01 # exploration rate\n",
    "number_episodes = 50\n",
    "\n",
    "# algorithm of q-learning\n",
    "for episode in range(number_episodes):\n",
    "    state = env.reset()\n",
    "    actions_taken = []\n",
    "    while True:\n",
    "        action = np.argmax(Q[-1] + np.random.randn(1, number_actions) * (1. / (episode + 1)))\n",
    "        result = env.step(action)\n",
    "        next_state = result[2]\n",
    "        reward = result[1]\n",
    "        done = result[2]\n",
    "\n",
    "        actions_taken.append(action)\n",
    "        Q[-1][1] = Q[-1][1] + parameter_alpha* (reward + parameter_gamma* np.max(Q[0]) - Q[-1][1])\n",
    "\n",
    "        if done:\n",
    "            break\n",
    "    print(\"Number of actions taken in episode {}: {}\".format(episode, len(actions_taken)))\n"
   ]
  },
  {
   "cell_type": "code",
   "execution_count": null,
   "id": "2e0ec11e",
   "metadata": {},
   "outputs": [],
   "source": [
    "pip install gym\n"
   ]
  },
  {
   "cell_type": "code",
   "execution_count": 5,
   "id": "6580b3b2",
   "metadata": {},
   "outputs": [
    {
     "data": {
      "text/plain": [
       "(array([-0.5616604,  0.       ], dtype=float32), {})"
      ]
     },
     "execution_count": 5,
     "metadata": {},
     "output_type": "execute_result"
    }
   ],
   "source": [
    "import gym\n",
    "env = gym.make('MountainCar-v0')\n",
    "env.reset()"
   ]
  },
  {
   "cell_type": "code",
   "execution_count": null,
   "id": "42ca2f00",
   "metadata": {},
   "outputs": [],
   "source": []
  }
 ],
 "metadata": {
  "kernelspec": {
   "display_name": "Python 3 (ipykernel)",
   "language": "python",
   "name": "python3"
  },
  "language_info": {
   "codemirror_mode": {
    "name": "ipython",
    "version": 3
   },
   "file_extension": ".py",
   "mimetype": "text/x-python",
   "name": "python",
   "nbconvert_exporter": "python",
   "pygments_lexer": "ipython3",
   "version": "3.9.12"
  }
 },
 "nbformat": 4,
 "nbformat_minor": 5
}
