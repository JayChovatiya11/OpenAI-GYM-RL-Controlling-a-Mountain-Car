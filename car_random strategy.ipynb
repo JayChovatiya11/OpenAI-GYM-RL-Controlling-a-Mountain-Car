{
 "cells": [
  {
   "cell_type": "code",
   "execution_count": 9,
   "id": "c08d182f",
   "metadata": {},
   "outputs": [
    {
     "name": "stdout",
     "output_type": "stream",
     "text": [
      "Requirement already satisfied: pyvirtualdisplay in ./opt/anaconda3/lib/python3.9/site-packages (3.0)\n",
      "Note: you may need to restart the kernel to use updated packages.\n"
     ]
    }
   ],
   "source": [
    " pip install pyvirtualdisplay"
   ]
  },
  {
   "cell_type": "code",
   "execution_count": 22,
   "id": "8b9e9b75",
   "metadata": {},
   "outputs": [
    {
     "name": "stdout",
     "output_type": "stream",
     "text": [
      "Car will reach to Flag at 43174 iterations \n"
     ]
    }
   ],
   "source": [
    "import gym\n",
    "\n",
    "# creating and reseting the environment\n",
    "env = gym.make('MountainCar-v0',render_mode=\"rgb_array\")\n",
    "env.reset()\n",
    "\n",
    "# declare some variable in order to store the information of the game\n",
    "game_finished = False\n",
    "iterations = 0\n",
    "observations = []\n",
    "rewards = []\n",
    "while(game_finished == False):\n",
    "    # this step is used to take a random action\n",
    "    action = env.action_space.sample() \n",
    "    result = env.step(action)\n",
    "    observation = result[0]\n",
    "    reward = result[1]\n",
    "    done = result[2]\n",
    "    info = result[3]\n",
    "    iterations += 1\n",
    "    observations.append(observation)\n",
    "    rewards.append(reward)\n",
    "\n",
    "    if done:\n",
    "        game_finished = True\n",
    "        print(\"Car will reach to Flag at {} iterations \".format(iterations))\n",
    "\n",
    "env.close()\n",
    "\n"
   ]
  },
  {
   "cell_type": "code",
   "execution_count": null,
   "id": "e6306a58",
   "metadata": {},
   "outputs": [],
   "source": []
  },
  {
   "cell_type": "markdown",
   "id": "503d3f6c",
   "metadata": {},
   "source": [
    "## "
   ]
  },
  {
   "cell_type": "code",
   "execution_count": null,
   "id": "9071c54d",
   "metadata": {},
   "outputs": [],
   "source": []
  },
  {
   "cell_type": "code",
   "execution_count": null,
   "id": "ac302021",
   "metadata": {},
   "outputs": [],
   "source": []
  }
 ],
 "metadata": {
  "kernelspec": {
   "display_name": "Python 3 (ipykernel)",
   "language": "python",
   "name": "python3"
  },
  "language_info": {
   "codemirror_mode": {
    "name": "ipython",
    "version": 3
   },
   "file_extension": ".py",
   "mimetype": "text/x-python",
   "name": "python",
   "nbconvert_exporter": "python",
   "pygments_lexer": "ipython3",
   "version": "3.9.12"
  }
 },
 "nbformat": 4,
 "nbformat_minor": 5
}
